{
 "cells": [
  {
   "cell_type": "markdown",
   "metadata": {},
   "source": [
    "### OSC-CO2: Coattention and Cosegmentation Framework For Object State Change With Multiple Features \n",
    "\n",
    "#### Code by: Rubi Quiñones\n",
    "\n",
    "If you use any part of this code or methodology, please cite our paper: \n",
    "\n",
    "R. Quiñones, F. Munoz-Arriola, S. Das Choudhury, A. Samal. \"CoPPNet: A Cosegmentation Framework for High-Throughput Binary Plant Image Sequences.\" IEEE, (2022)."
   ]
  },
  {
   "cell_type": "markdown",
   "metadata": {},
   "source": [
    "## Import Packages"
   ]
  },
  {
   "cell_type": "code",
   "execution_count": 1,
   "metadata": {},
   "outputs": [],
   "source": [
    "import torch\n",
    "import torchvision\n",
    "import matplotlib.pyplot as plt\n",
    "import numpy as np\n",
    "import tqdm.notebook\n",
    "from torch.utils.tensorboard import SummaryWriter\n",
    "import datetime\n",
    "from models import ResNet50, FCN32s\n",
    "import tensorflow as tf\n",
    "from PIL import Image\n",
    "import statistics\n",
    "from itertools import tee, islice, chain\n",
    "import os\n",
    "from os import walk\n",
    "import math"
   ]
  },
  {
   "cell_type": "markdown",
   "metadata": {},
   "source": [
    "## User-Defined Variables"
   ]
  },
  {
   "cell_type": "code",
   "execution_count": 23,
   "metadata": {},
   "outputs": [
    {
     "name": "stdout",
     "output_type": "stream",
     "text": [
      "['Vis_SV_72', 'Fluo_SV_144', 'Vis_SV_144', 'Vis_SV_0', 'Fluo_SV_216', 'Fluo_SV_72', 'IR_SV_0', 'Vis_SV_216', 'Fluo_SV_0', 'IR_SV_144', 'IR_SV_216', 'IR_SV_72']\n"
     ]
    }
   ],
   "source": [
    "num_prior_algo = 2 # this is equal to batch\n",
    "dataset_path = './CosegPP_extension/Sunflower-D-1'\n",
    "nb_epochs = 7\n",
    "\n",
    "class_list = [ item for item in os.listdir(dataset_path) if os.path.isdir(os.path.join(dataset_path, item)) ]\n",
    "print (class_list)\n",
    "class_list_len = len(class_list)"
   ]
  },
  {
   "cell_type": "markdown",
   "metadata": {},
   "source": [
    "## Defining Functions"
   ]
  },
  {
   "cell_type": "code",
   "execution_count": 24,
   "metadata": {},
   "outputs": [],
   "source": [
    "def select_class(dataset, class_name):\n",
    "    class_idx = dataset.class_to_idx[class_name]\n",
    "    dataset = [element for element in dataset if element[1]==class_idx]\n",
    "    return dataset\n",
    "       \n",
    "def imshow(img):\n",
    "    npimg = img.numpy()\n",
    "    plt.imshow((np.transpose(npimg, (1, 2, 0)) * 255).astype(np.uint8))\n",
    "    \n",
    "def save_image_mask_segmented(data_loader, timestamp_list):\n",
    "    timestamp_counter = 0\n",
    "    dataiter = iter(data_loader)\n",
    "    for i in range(math.ceil(len(timestamp_list)/num_prior_algo)): \n",
    "        images, labels = next(dataiter)\n",
    "\n",
    "        with torch.no_grad():\n",
    "            masks = generator(images)\n",
    "\n",
    "        for j in range(num_prior_algo):\n",
    "            try: \n",
    "                path = './output/images/' + dataset_path[2:] + '/' + class_item + '/' + timestamp_list[timestamp_counter]\n",
    "                plt.figure()\n",
    "                images[j, 0,:] = images[j, 0,:] * 0.229 + 0.485\n",
    "                images[j, 1,:] = images[j, 1,:] * 0.224 + 0.456\n",
    "                images[j, 2,:] = images[j, 2,:] * 0.225 + 0.406  \n",
    "                imshow(images[j])\n",
    "                plt.axis('off')\n",
    "                plt.savefig(path,bbox_inches='tight',pad_inches = 0)\n",
    "                plt.close()\n",
    "\n",
    "                path = './output/masks/' + dataset_path[2:] + '/' + class_item + '/' + timestamp_list[timestamp_counter]\n",
    "                plt.figure()\n",
    "                imshow(masks[j])\n",
    "                plt.axis('off')\n",
    "                plt.savefig(path,bbox_inches='tight',pad_inches = 0)\n",
    "                plt.close()\n",
    "\n",
    "                path = './output/segmented/' + dataset_path[2:] + '/' + class_item + '/' + timestamp_list[timestamp_counter]\n",
    "                plt.figure()\n",
    "                segmented = images[j] * masks[j]\n",
    "                imshow(segmented)\n",
    "                plt.axis('off')\n",
    "                plt.savefig(path,bbox_inches='tight',pad_inches = 0) \n",
    "                plt.close()\n",
    "            except:\n",
    "                continue\n",
    "            timestamp_counter = timestamp_counter + 1\n",
    "\n",
    "def previous_and_next(some_iterable):\n",
    "    prevs, items, nexts = tee(some_iterable, 3)\n",
    "    prevs = chain([None], prevs)\n",
    "    nexts = chain(islice(nexts, 1, None), [None])\n",
    "    return zip(prevs, items, nexts)"
   ]
  },
  {
   "cell_type": "markdown",
   "metadata": {},
   "source": [
    "## Initialize Extractor and Generator"
   ]
  },
  {
   "cell_type": "code",
   "execution_count": 25,
   "metadata": {},
   "outputs": [
    {
     "data": {
      "text/plain": [
       "FCN32s(\n",
       "  (pretrained_net): VGGNet(\n",
       "    (features): Sequential(\n",
       "      (0): Conv2d(3, 64, kernel_size=(3, 3), stride=(1, 1), padding=(1, 1))\n",
       "      (1): ReLU(inplace=True)\n",
       "      (2): Conv2d(64, 64, kernel_size=(3, 3), stride=(1, 1), padding=(1, 1))\n",
       "      (3): ReLU(inplace=True)\n",
       "      (4): MaxPool2d(kernel_size=2, stride=2, padding=0, dilation=1, ceil_mode=False)\n",
       "      (5): Conv2d(64, 128, kernel_size=(3, 3), stride=(1, 1), padding=(1, 1))\n",
       "      (6): ReLU(inplace=True)\n",
       "      (7): Conv2d(128, 128, kernel_size=(3, 3), stride=(1, 1), padding=(1, 1))\n",
       "      (8): ReLU(inplace=True)\n",
       "      (9): MaxPool2d(kernel_size=2, stride=2, padding=0, dilation=1, ceil_mode=False)\n",
       "      (10): Conv2d(128, 256, kernel_size=(3, 3), stride=(1, 1), padding=(1, 1))\n",
       "      (11): ReLU(inplace=True)\n",
       "      (12): Conv2d(256, 256, kernel_size=(3, 3), stride=(1, 1), padding=(1, 1))\n",
       "      (13): ReLU(inplace=True)\n",
       "      (14): Conv2d(256, 256, kernel_size=(3, 3), stride=(1, 1), padding=(1, 1))\n",
       "      (15): ReLU(inplace=True)\n",
       "      (16): MaxPool2d(kernel_size=2, stride=2, padding=0, dilation=1, ceil_mode=False)\n",
       "      (17): Conv2d(256, 512, kernel_size=(3, 3), stride=(1, 1), padding=(1, 1))\n",
       "      (18): ReLU(inplace=True)\n",
       "      (19): Conv2d(512, 512, kernel_size=(3, 3), stride=(1, 1), padding=(1, 1))\n",
       "      (20): ReLU(inplace=True)\n",
       "      (21): Conv2d(512, 512, kernel_size=(3, 3), stride=(1, 1), padding=(1, 1))\n",
       "      (22): ReLU(inplace=True)\n",
       "      (23): MaxPool2d(kernel_size=2, stride=2, padding=0, dilation=1, ceil_mode=False)\n",
       "      (24): Conv2d(512, 512, kernel_size=(3, 3), stride=(1, 1), padding=(1, 1))\n",
       "      (25): ReLU(inplace=True)\n",
       "      (26): Conv2d(512, 512, kernel_size=(3, 3), stride=(1, 1), padding=(1, 1))\n",
       "      (27): ReLU(inplace=True)\n",
       "      (28): Conv2d(512, 512, kernel_size=(3, 3), stride=(1, 1), padding=(1, 1))\n",
       "      (29): ReLU(inplace=True)\n",
       "      (30): MaxPool2d(kernel_size=2, stride=2, padding=0, dilation=1, ceil_mode=False)\n",
       "    )\n",
       "    (avgpool): AdaptiveAvgPool2d(output_size=(7, 7))\n",
       "  )\n",
       "  (relu): ReLU()\n",
       "  (deconv1): ConvTranspose2d(512, 512, kernel_size=(3, 3), stride=(2, 2), padding=(1, 1), output_padding=(1, 1))\n",
       "  (bn1): BatchNorm2d(512, eps=1e-05, momentum=0.1, affine=True, track_running_stats=True)\n",
       "  (deconv2): ConvTranspose2d(512, 256, kernel_size=(3, 3), stride=(2, 2), padding=(1, 1), output_padding=(1, 1))\n",
       "  (bn2): BatchNorm2d(256, eps=1e-05, momentum=0.1, affine=True, track_running_stats=True)\n",
       "  (deconv3): ConvTranspose2d(256, 128, kernel_size=(3, 3), stride=(2, 2), padding=(1, 1), output_padding=(1, 1))\n",
       "  (bn3): BatchNorm2d(128, eps=1e-05, momentum=0.1, affine=True, track_running_stats=True)\n",
       "  (deconv4): ConvTranspose2d(128, 64, kernel_size=(3, 3), stride=(2, 2), padding=(1, 1), output_padding=(1, 1))\n",
       "  (bn4): BatchNorm2d(64, eps=1e-05, momentum=0.1, affine=True, track_running_stats=True)\n",
       "  (deconv5): ConvTranspose2d(64, 32, kernel_size=(3, 3), stride=(2, 2), padding=(1, 1), output_padding=(1, 1))\n",
       "  (bn5): BatchNorm2d(32, eps=1e-05, momentum=0.1, affine=True, track_running_stats=True)\n",
       "  (classifier): Conv2d(32, 1, kernel_size=(7, 7), stride=(1, 1), padding=(3, 3))\n",
       ")"
      ]
     },
     "execution_count": 25,
     "metadata": {},
     "output_type": "execute_result"
    }
   ],
   "source": [
    "device = torch.device('cuda' if torch.cuda.is_available() else 'cpu')\n",
    "\n",
    "transform = torchvision.transforms.Compose([\n",
    "                            torchvision.transforms.Resize((384,384)),\n",
    "                            torchvision.transforms.ToTensor(),\n",
    "                            torchvision.transforms.Normalize([0.485, 0.456, 0.406],[0.229, 0.224, 0.225])])\n",
    "\n",
    "feature_extractor =  ResNet50().eval()\n",
    "generator = FCN32s().train()\n",
    "\n",
    "fake_feature_extractor = ResNet50().eval()\n",
    "fake_generator = FCN32s().train()\n",
    "\n",
    "optimizer = torch.optim.SGD(generator.parameters(), lr = 1e-2)\n",
    "criterion = torch.nn.MSELoss()\n",
    "feature_extractor.to(device)\n",
    "generator.to(device)\n",
    "fake_feature_extractor.to(device)\n",
    "fake_generator.to(device)"
   ]
  },
  {
   "cell_type": "markdown",
   "metadata": {},
   "source": [
    "## Stage 1: Object Mask Refinement"
   ]
  },
  {
   "cell_type": "code",
   "execution_count": 26,
   "metadata": {},
   "outputs": [
    {
     "name": "stdout",
     "output_type": "stream",
     "text": [
      "In:  ./CosegPP_extension/Sunflower-D-1\n",
      "Starting:  Vis_SV_72\n"
     ]
    },
    {
     "data": {
      "application/vnd.jupyter.widget-view+json": {
       "model_id": "cd3962bc4e3a42329f06af844f17530b",
       "version_major": 2,
       "version_minor": 0
      },
      "text/plain": [
       "  0%|          | 0/13 [00:00<?, ?it/s]"
      ]
     },
     "metadata": {},
     "output_type": "display_data"
    },
    {
     "name": "stdout",
     "output_type": "stream",
     "text": [
      "Epoch 0 coattention loss 0.028955393993273015\n",
      "Epoch 0 temporal loss 0.028955393993273015\n",
      "Epoch 0 coseg loss 0.02895539626479149\n"
     ]
    },
    {
     "data": {
      "application/vnd.jupyter.widget-view+json": {
       "model_id": "1260b96586bd4be0a77a48aafb3e8663",
       "version_major": 2,
       "version_minor": 0
      },
      "text/plain": [
       "  0%|          | 0/13 [00:00<?, ?it/s]"
      ]
     },
     "metadata": {},
     "output_type": "display_data"
    },
    {
     "name": "stdout",
     "output_type": "stream",
     "text": [
      "Epoch 1 coattention loss 0.014848776888556597\n",
      "Epoch 1 temporal loss 0.014848776888556597\n",
      "Epoch 1 coseg loss 0.014848776161670685\n"
     ]
    },
    {
     "data": {
      "application/vnd.jupyter.widget-view+json": {
       "model_id": "c24d7c16bf0640ea8cdfe7b1431af628",
       "version_major": 2,
       "version_minor": 0
      },
      "text/plain": [
       "  0%|          | 0/13 [00:00<?, ?it/s]"
      ]
     },
     "metadata": {},
     "output_type": "display_data"
    },
    {
     "name": "stdout",
     "output_type": "stream",
     "text": [
      "Epoch 2 coattention loss 0.05631138638752263\n",
      "Epoch 2 temporal loss 0.011056325421100709\n",
      "Epoch 2 coseg loss 0.011056325398385525\n"
     ]
    },
    {
     "data": {
      "application/vnd.jupyter.widget-view+json": {
       "model_id": "bf8c244fc20f41aca37d972174cb6497",
       "version_major": 2,
       "version_minor": 0
      },
      "text/plain": [
       "  0%|          | 0/13 [00:00<?, ?it/s]"
      ]
     },
     "metadata": {},
     "output_type": "display_data"
    },
    {
     "name": "stdout",
     "output_type": "stream",
     "text": [
      "Epoch 3 coattention loss 0.05432517463114203\n",
      "Epoch 3 temporal loss 0.010201883797601955\n",
      "Epoch 3 coseg loss 0.010201883502304554\n"
     ]
    },
    {
     "data": {
      "application/vnd.jupyter.widget-view+json": {
       "model_id": "a1849d3b866b4adea405cd2b01b0f9f5",
       "version_major": 2,
       "version_minor": 0
      },
      "text/plain": [
       "  0%|          | 0/13 [00:00<?, ?it/s]"
      ]
     },
     "metadata": {},
     "output_type": "display_data"
    },
    {
     "name": "stdout",
     "output_type": "stream",
     "text": [
      "Epoch 4 coattention loss 0.05356086499807311\n",
      "Epoch 4 temporal loss 0.009870692814995603\n",
      "Epoch 4 coseg loss 0.009870692156255245\n"
     ]
    },
    {
     "data": {
      "application/vnd.jupyter.widget-view+json": {
       "model_id": "e639e7329cc346c6bb1066a70e21154a",
       "version_major": 2,
       "version_minor": 0
      },
      "text/plain": [
       "  0%|          | 0/13 [00:00<?, ?it/s]"
      ]
     },
     "metadata": {},
     "output_type": "display_data"
    },
    {
     "name": "stdout",
     "output_type": "stream",
     "text": [
      "Epoch 5 coattention loss 0.05225514820436152\n",
      "Epoch 5 temporal loss 0.009578179568052292\n",
      "Epoch 5 coseg loss 0.009578179568052292\n"
     ]
    },
    {
     "data": {
      "application/vnd.jupyter.widget-view+json": {
       "model_id": "392a03794d854df78dbac099faa0f5aa",
       "version_major": 2,
       "version_minor": 0
      },
      "text/plain": [
       "  0%|          | 0/13 [00:00<?, ?it/s]"
      ]
     },
     "metadata": {},
     "output_type": "display_data"
    },
    {
     "name": "stdout",
     "output_type": "stream",
     "text": [
      "Epoch 6 coattention loss 0.050644861488807494\n",
      "Epoch 6 temporal loss 0.05248272600697308\n",
      "Epoch 6 coseg loss 0.07398208975791931\n",
      "In:  ./CosegPP_extension/Sunflower-D-1\n",
      "Starting:  Fluo_SV_144\n"
     ]
    },
    {
     "data": {
      "application/vnd.jupyter.widget-view+json": {
       "model_id": "278b75d1b11b4d2f8c3f1c83fa721191",
       "version_major": 2,
       "version_minor": 0
      },
      "text/plain": [
       "  0%|          | 0/14 [00:00<?, ?it/s]"
      ]
     },
     "metadata": {},
     "output_type": "display_data"
    },
    {
     "name": "stdout",
     "output_type": "stream",
     "text": [
      "Epoch 0 coattention loss 0.0349717618125241\n",
      "Epoch 0 temporal loss 0.0349717618125241\n",
      "Epoch 0 coseg loss 0.03497176244854927\n"
     ]
    },
    {
     "data": {
      "application/vnd.jupyter.widget-view+json": {
       "model_id": "3cb1065ef9e546f98e0035789129d568",
       "version_major": 2,
       "version_minor": 0
      },
      "text/plain": [
       "  0%|          | 0/14 [00:00<?, ?it/s]"
      ]
     },
     "metadata": {},
     "output_type": "display_data"
    },
    {
     "name": "stdout",
     "output_type": "stream",
     "text": [
      "Epoch 1 coattention loss 0.01531720552139166\n",
      "Epoch 1 temporal loss 0.01531720552139166\n",
      "Epoch 1 coseg loss 0.015317206270992756\n"
     ]
    },
    {
     "data": {
      "application/vnd.jupyter.widget-view+json": {
       "model_id": "21dae419532d443f839105612bdb4897",
       "version_major": 2,
       "version_minor": 0
      },
      "text/plain": [
       "  0%|          | 0/14 [00:00<?, ?it/s]"
      ]
     },
     "metadata": {},
     "output_type": "display_data"
    },
    {
     "name": "stdout",
     "output_type": "stream",
     "text": [
      "Epoch 2 coattention loss 0.058647943342604286\n",
      "Epoch 2 temporal loss 0.010175061207718966\n",
      "Epoch 2 coseg loss 0.010175060480833054\n"
     ]
    },
    {
     "data": {
      "application/vnd.jupyter.widget-view+json": {
       "model_id": "6312977533b64f279d633662d0f7cf5f",
       "version_major": 2,
       "version_minor": 0
      },
      "text/plain": [
       "  0%|          | 0/14 [00:00<?, ?it/s]"
      ]
     },
     "metadata": {},
     "output_type": "display_data"
    },
    {
     "name": "stdout",
     "output_type": "stream",
     "text": [
      "Epoch 3 coattention loss 0.05814321593540471\n",
      "Epoch 3 temporal loss 0.008879070329230005\n",
      "Epoch 3 coseg loss 0.008879070170223713\n"
     ]
    },
    {
     "data": {
      "application/vnd.jupyter.widget-view+json": {
       "model_id": "7bb173690b2f4856a0e8b423cb34d529",
       "version_major": 2,
       "version_minor": 0
      },
      "text/plain": [
       "  0%|          | 0/14 [00:00<?, ?it/s]"
      ]
     },
     "metadata": {},
     "output_type": "display_data"
    },
    {
     "name": "stdout",
     "output_type": "stream",
     "text": [
      "Epoch 4 coattention loss 0.05770447050652853\n",
      "Epoch 4 temporal loss 0.008151385297135608\n",
      "Epoch 4 coseg loss 0.008151385001838207\n"
     ]
    },
    {
     "data": {
      "application/vnd.jupyter.widget-view+json": {
       "model_id": "daba3f8c4a3740ba8ddc7194a383dfda",
       "version_major": 2,
       "version_minor": 0
      },
      "text/plain": [
       "  0%|          | 0/14 [00:00<?, ?it/s]"
      ]
     },
     "metadata": {},
     "output_type": "display_data"
    },
    {
     "name": "stdout",
     "output_type": "stream",
     "text": [
      "Epoch 5 coattention loss 0.05739777953159518\n",
      "Epoch 5 temporal loss 0.007710000409222231\n",
      "Epoch 5 coseg loss 0.007709999568760395\n"
     ]
    },
    {
     "data": {
      "application/vnd.jupyter.widget-view+json": {
       "model_id": "e20de994b26a458eb77d46f0a289a821",
       "version_major": 2,
       "version_minor": 0
      },
      "text/plain": [
       "  0%|          | 0/14 [00:00<?, ?it/s]"
      ]
     },
     "metadata": {},
     "output_type": "display_data"
    },
    {
     "name": "stdout",
     "output_type": "stream",
     "text": [
      "Epoch 6 coattention loss 0.05701101952936591\n",
      "Epoch 6 temporal loss 0.05781821106992117\n",
      "Epoch 6 coseg loss 0.08023006469011307\n",
      "In:  ./CosegPP_extension/Sunflower-D-1\n",
      "Starting:  Vis_SV_144\n"
     ]
    },
    {
     "data": {
      "application/vnd.jupyter.widget-view+json": {
       "model_id": "45e869ac740c43fe83f5f2c4bfdd2960",
       "version_major": 2,
       "version_minor": 0
      },
      "text/plain": [
       "  0%|          | 0/13 [00:00<?, ?it/s]"
      ]
     },
     "metadata": {},
     "output_type": "display_data"
    },
    {
     "name": "stdout",
     "output_type": "stream",
     "text": [
      "Epoch 0 coattention loss 0.03493217705953412\n",
      "Epoch 0 temporal loss 0.03493217705953412\n",
      "Epoch 0 coseg loss 0.034932173788547516\n"
     ]
    },
    {
     "data": {
      "application/vnd.jupyter.widget-view+json": {
       "model_id": "c7b0d1fb5b294fe78505f629693b792e",
       "version_major": 2,
       "version_minor": 0
      },
      "text/plain": [
       "  0%|          | 0/13 [00:00<?, ?it/s]"
      ]
     },
     "metadata": {},
     "output_type": "display_data"
    },
    {
     "name": "stdout",
     "output_type": "stream",
     "text": [
      "Epoch 1 coattention loss 0.018588147330574872\n",
      "Epoch 1 temporal loss 0.018588147330574872\n",
      "Epoch 1 coseg loss 0.018588148057460785\n"
     ]
    },
    {
     "data": {
      "application/vnd.jupyter.widget-view+json": {
       "model_id": "3dcefe6795fb469ca5b31fe1593796d8",
       "version_major": 2,
       "version_minor": 0
      },
      "text/plain": [
       "  0%|          | 0/13 [00:00<?, ?it/s]"
      ]
     },
     "metadata": {},
     "output_type": "display_data"
    },
    {
     "name": "stdout",
     "output_type": "stream",
     "text": [
      "Epoch 2 coattention loss 0.0559799231407119\n",
      "Epoch 2 temporal loss 0.01250552658627673\n",
      "Epoch 2 coseg loss 0.012505525723099709\n"
     ]
    },
    {
     "data": {
      "application/vnd.jupyter.widget-view+json": {
       "model_id": "b44fa4780a044d99a7dfa6c2e1e2967c",
       "version_major": 2,
       "version_minor": 0
      },
      "text/plain": [
       "  0%|          | 0/13 [00:00<?, ?it/s]"
      ]
     },
     "metadata": {},
     "output_type": "display_data"
    },
    {
     "name": "stdout",
     "output_type": "stream",
     "text": [
      "Epoch 3 coattention loss 0.054138830522211585\n",
      "Epoch 3 temporal loss 0.010822203464624359\n",
      "Epoch 3 coseg loss 0.010822203941643238\n"
     ]
    },
    {
     "data": {
      "application/vnd.jupyter.widget-view+json": {
       "model_id": "4cf4841c7cb74972abab552d2e1308ee",
       "version_major": 2,
       "version_minor": 0
      },
      "text/plain": [
       "  0%|          | 0/13 [00:00<?, ?it/s]"
      ]
     },
     "metadata": {},
     "output_type": "display_data"
    },
    {
     "name": "stdout",
     "output_type": "stream",
     "text": [
      "Epoch 4 coattention loss 0.052793688526967676\n",
      "Epoch 4 temporal loss 0.010056950833375862\n",
      "Epoch 4 coseg loss 0.010056951083242893\n"
     ]
    },
    {
     "data": {
      "application/vnd.jupyter.widget-view+json": {
       "model_id": "01ccb9a796ab46848fa2bc5701292c70",
       "version_major": 2,
       "version_minor": 0
      },
      "text/plain": [
       "  0%|          | 0/13 [00:00<?, ?it/s]"
      ]
     },
     "metadata": {},
     "output_type": "display_data"
    },
    {
     "name": "stdout",
     "output_type": "stream",
     "text": [
      "Epoch 5 coattention loss 0.05208785650206775\n",
      "Epoch 5 temporal loss 0.009669843833984398\n",
      "Epoch 5 coseg loss 0.009669843129813671\n"
     ]
    },
    {
     "data": {
      "application/vnd.jupyter.widget-view+json": {
       "model_id": "9e40af8d92d4423186b1a57382fb337a",
       "version_major": 2,
       "version_minor": 0
      },
      "text/plain": [
       "  0%|          | 0/13 [00:00<?, ?it/s]"
      ]
     },
     "metadata": {},
     "output_type": "display_data"
    },
    {
     "name": "stdout",
     "output_type": "stream",
     "text": [
      "Epoch 6 coattention loss 0.05142394071672021\n",
      "Epoch 6 temporal loss 0.05407527016430366\n",
      "Epoch 6 coseg loss 0.07378775626420975\n",
      "In:  ./CosegPP_extension/Sunflower-D-1\n",
      "Starting:  Vis_SV_0\n"
     ]
    },
    {
     "data": {
      "application/vnd.jupyter.widget-view+json": {
       "model_id": "2d6d5cc19c744dc097a3aee486317692",
       "version_major": 2,
       "version_minor": 0
      },
      "text/plain": [
       "  0%|          | 0/13 [00:00<?, ?it/s]"
      ]
     },
     "metadata": {},
     "output_type": "display_data"
    },
    {
     "name": "stdout",
     "output_type": "stream",
     "text": [
      "Epoch 0 coattention loss 0.037221949638389956\n",
      "Epoch 0 temporal loss 0.037221949638389956\n",
      "Epoch 0 coseg loss 0.03722195327281952\n"
     ]
    },
    {
     "data": {
      "application/vnd.jupyter.widget-view+json": {
       "model_id": "7c4c32581acb4288aaca59fbd3a36d92",
       "version_major": 2,
       "version_minor": 0
      },
      "text/plain": [
       "  0%|          | 0/13 [00:00<?, ?it/s]"
      ]
     },
     "metadata": {},
     "output_type": "display_data"
    },
    {
     "name": "stdout",
     "output_type": "stream",
     "text": [
      "Epoch 1 coattention loss 0.022909082108881415\n",
      "Epoch 1 temporal loss 0.022909082108881415\n",
      "Epoch 1 coseg loss 0.02290908247232437\n"
     ]
    },
    {
     "data": {
      "application/vnd.jupyter.widget-view+json": {
       "model_id": "a7f0355f12ea48ec9c1f21dd196703f7",
       "version_major": 2,
       "version_minor": 0
      },
      "text/plain": [
       "  0%|          | 0/13 [00:00<?, ?it/s]"
      ]
     },
     "metadata": {},
     "output_type": "display_data"
    },
    {
     "name": "stdout",
     "output_type": "stream",
     "text": [
      "Epoch 2 coattention loss 0.053954448278357346\n",
      "Epoch 2 temporal loss 0.013072579281359183\n",
      "Epoch 2 coseg loss 0.01307257916778326\n"
     ]
    },
    {
     "data": {
      "application/vnd.jupyter.widget-view+json": {
       "model_id": "f99aeddceb9a4442b5cca0e7b24bc97e",
       "version_major": 2,
       "version_minor": 0
      },
      "text/plain": [
       "  0%|          | 0/13 [00:00<?, ?it/s]"
      ]
     },
     "metadata": {},
     "output_type": "display_data"
    },
    {
     "name": "stdout",
     "output_type": "stream",
     "text": [
      "Epoch 3 coattention loss 0.052113782705330264\n",
      "Epoch 3 temporal loss 0.01148617403899751\n",
      "Epoch 3 coseg loss 0.011486174538731575\n"
     ]
    },
    {
     "data": {
      "application/vnd.jupyter.widget-view+json": {
       "model_id": "25f50a6bc7b6467eba5fa4aca8420296",
       "version_major": 2,
       "version_minor": 0
      },
      "text/plain": [
       "  0%|          | 0/13 [00:00<?, ?it/s]"
      ]
     },
     "metadata": {},
     "output_type": "display_data"
    },
    {
     "name": "stdout",
     "output_type": "stream",
     "text": [
      "Epoch 4 coattention loss 0.050997421508882104\n",
      "Epoch 4 temporal loss 0.010751388421872766\n",
      "Epoch 4 coseg loss 0.010751388967037201\n"
     ]
    },
    {
     "data": {
      "application/vnd.jupyter.widget-view+json": {
       "model_id": "15fd57c6036a47ed924135054c1a488a",
       "version_major": 2,
       "version_minor": 0
      },
      "text/plain": [
       "  0%|          | 0/13 [00:00<?, ?it/s]"
      ]
     },
     "metadata": {},
     "output_type": "display_data"
    },
    {
     "name": "stdout",
     "output_type": "stream",
     "text": [
      "Epoch 5 coattention loss 0.04993976107457789\n",
      "Epoch 5 temporal loss 0.01035977613816901\n",
      "Epoch 5 coseg loss 0.01035977527499199\n"
     ]
    },
    {
     "data": {
      "application/vnd.jupyter.widget-view+json": {
       "model_id": "0922e2c393cf478d89c9a5fecff9f584",
       "version_major": 2,
       "version_minor": 0
      },
      "text/plain": [
       "  0%|          | 0/13 [00:00<?, ?it/s]"
      ]
     },
     "metadata": {},
     "output_type": "display_data"
    },
    {
     "name": "stdout",
     "output_type": "stream",
     "text": [
      "Epoch 6 coattention loss 0.049083185632054396\n",
      "Epoch 6 temporal loss 0.053909925425924904\n",
      "Epoch 6 coseg loss 0.07423518598079681\n",
      "In:  ./CosegPP_extension/Sunflower-D-1\n",
      "Starting:  Fluo_SV_216\n"
     ]
    },
    {
     "data": {
      "application/vnd.jupyter.widget-view+json": {
       "model_id": "415e56d597494a519fe554144d8f9123",
       "version_major": 2,
       "version_minor": 0
      },
      "text/plain": [
       "  0%|          | 0/14 [00:00<?, ?it/s]"
      ]
     },
     "metadata": {},
     "output_type": "display_data"
    },
    {
     "name": "stdout",
     "output_type": "stream",
     "text": [
      "Epoch 0 coattention loss 0.037420882866149995\n",
      "Epoch 0 temporal loss 0.037420882866149995\n",
      "Epoch 0 coseg loss 0.037420887500047684\n"
     ]
    },
    {
     "data": {
      "application/vnd.jupyter.widget-view+json": {
       "model_id": "8ee5da6488254af08bcf969cc79e26b7",
       "version_major": 2,
       "version_minor": 0
      },
      "text/plain": [
       "  0%|          | 0/14 [00:00<?, ?it/s]"
      ]
     },
     "metadata": {},
     "output_type": "display_data"
    },
    {
     "name": "stdout",
     "output_type": "stream",
     "text": [
      "Epoch 1 coattention loss 0.017243712504462497\n",
      "Epoch 1 temporal loss 0.017243712504462497\n",
      "Epoch 1 coseg loss 0.01724371127784252\n"
     ]
    },
    {
     "data": {
      "application/vnd.jupyter.widget-view+json": {
       "model_id": "0994e9dcfc134bffa5c9b46c1f1b6bc2",
       "version_major": 2,
       "version_minor": 0
      },
      "text/plain": [
       "  0%|          | 0/14 [00:00<?, ?it/s]"
      ]
     },
     "metadata": {},
     "output_type": "display_data"
    },
    {
     "name": "stdout",
     "output_type": "stream",
     "text": [
      "Epoch 2 coattention loss 0.05869540753887921\n",
      "Epoch 2 temporal loss 0.010643897169246906\n",
      "Epoch 2 coseg loss 0.010643896646797657\n"
     ]
    },
    {
     "data": {
      "application/vnd.jupyter.widget-view+json": {
       "model_id": "bd0f695f3d8c4a2dab8376c1bc67c5ff",
       "version_major": 2,
       "version_minor": 0
      },
      "text/plain": [
       "  0%|          | 0/14 [00:00<?, ?it/s]"
      ]
     },
     "metadata": {},
     "output_type": "display_data"
    },
    {
     "name": "stdout",
     "output_type": "stream",
     "text": [
      "Epoch 3 coattention loss 0.05783960005132163\n",
      "Epoch 3 temporal loss 0.009126672475803189\n",
      "Epoch 3 coseg loss 0.009126673452556133\n"
     ]
    },
    {
     "data": {
      "application/vnd.jupyter.widget-view+json": {
       "model_id": "65ddd38bc2de42a4ad28103754d116fb",
       "version_major": 2,
       "version_minor": 0
      },
      "text/plain": [
       "  0%|          | 0/14 [00:00<?, ?it/s]"
      ]
     },
     "metadata": {},
     "output_type": "display_data"
    },
    {
     "name": "stdout",
     "output_type": "stream",
     "text": [
      "Epoch 4 coattention loss 0.0575640997508677\n",
      "Epoch 4 temporal loss 0.008355542790235542\n",
      "Epoch 4 coseg loss 0.008355542086064816\n"
     ]
    },
    {
     "data": {
      "application/vnd.jupyter.widget-view+json": {
       "model_id": "161d4f7f62264cb9b7cb3b9df10c1f7c",
       "version_major": 2,
       "version_minor": 0
      },
      "text/plain": [
       "  0%|          | 0/14 [00:00<?, ?it/s]"
      ]
     },
     "metadata": {},
     "output_type": "display_data"
    },
    {
     "name": "stdout",
     "output_type": "stream",
     "text": [
      "Epoch 5 coattention loss 0.05695864739941388\n",
      "Epoch 5 temporal loss 0.007880159085843622\n",
      "Epoch 5 coseg loss 0.007880158722400665\n"
     ]
    },
    {
     "data": {
      "application/vnd.jupyter.widget-view+json": {
       "model_id": "597783f3b5d34cb5a5a7e308b1748848",
       "version_major": 2,
       "version_minor": 0
      },
      "text/plain": [
       "  0%|          | 0/14 [00:00<?, ?it/s]"
      ]
     },
     "metadata": {},
     "output_type": "display_data"
    },
    {
     "name": "stdout",
     "output_type": "stream",
     "text": [
      "Epoch 6 coattention loss 0.05004818410408206\n",
      "Epoch 6 temporal loss 0.05787774811430675\n",
      "Epoch 6 coseg loss 0.08725173771381378\n",
      "In:  ./CosegPP_extension/Sunflower-D-1\n",
      "Starting:  Fluo_SV_72\n"
     ]
    },
    {
     "data": {
      "application/vnd.jupyter.widget-view+json": {
       "model_id": "f352b2f9333b4aaa96c999ce52a186fe",
       "version_major": 2,
       "version_minor": 0
      },
      "text/plain": [
       "  0%|          | 0/14 [00:00<?, ?it/s]"
      ]
     },
     "metadata": {},
     "output_type": "display_data"
    },
    {
     "name": "stdout",
     "output_type": "stream",
     "text": [
      "Epoch 0 coattention loss 0.038751372476903405\n",
      "Epoch 0 temporal loss 0.038751372476903405\n",
      "Epoch 0 coseg loss 0.038751374930143356\n"
     ]
    },
    {
     "data": {
      "application/vnd.jupyter.widget-view+json": {
       "model_id": "a4e14f1293c442459552851d7bc368ce",
       "version_major": 2,
       "version_minor": 0
      },
      "text/plain": [
       "  0%|          | 0/14 [00:00<?, ?it/s]"
      ]
     },
     "metadata": {},
     "output_type": "display_data"
    },
    {
     "name": "stdout",
     "output_type": "stream",
     "text": [
      "Epoch 1 coattention loss 0.018450223454614965\n",
      "Epoch 1 temporal loss 0.018450223454614965\n",
      "Epoch 1 coseg loss 0.01845022290945053\n"
     ]
    },
    {
     "data": {
      "application/vnd.jupyter.widget-view+json": {
       "model_id": "af4da02ab46343319d42814a167591b1",
       "version_major": 2,
       "version_minor": 0
      },
      "text/plain": [
       "  0%|          | 0/14 [00:00<?, ?it/s]"
      ]
     },
     "metadata": {},
     "output_type": "display_data"
    },
    {
     "name": "stdout",
     "output_type": "stream",
     "text": [
      "Epoch 2 coattention loss 0.05855154736739833\n",
      "Epoch 2 temporal loss 0.010861368986164651\n",
      "Epoch 2 coseg loss 0.010861368849873543\n"
     ]
    },
    {
     "data": {
      "application/vnd.jupyter.widget-view+json": {
       "model_id": "2e831dbb43ff479688b1ad03b597a0ae",
       "version_major": 2,
       "version_minor": 0
      },
      "text/plain": [
       "  0%|          | 0/14 [00:00<?, ?it/s]"
      ]
     },
     "metadata": {},
     "output_type": "display_data"
    },
    {
     "name": "stdout",
     "output_type": "stream",
     "text": [
      "Epoch 3 coattention loss 0.05775149348305493\n",
      "Epoch 3 temporal loss 0.00922620955218629\n",
      "Epoch 3 coseg loss 0.009226209484040737\n"
     ]
    },
    {
     "data": {
      "application/vnd.jupyter.widget-view+json": {
       "model_id": "70a17b23c25c4cca90a310ffe972d074",
       "version_major": 2,
       "version_minor": 0
      },
      "text/plain": [
       "  0%|          | 0/14 [00:00<?, ?it/s]"
      ]
     },
     "metadata": {},
     "output_type": "display_data"
    },
    {
     "name": "stdout",
     "output_type": "stream",
     "text": [
      "Epoch 4 coattention loss 0.05738241461718955\n",
      "Epoch 4 temporal loss 0.00847757916624953\n",
      "Epoch 4 coseg loss 0.008477579802274704\n"
     ]
    },
    {
     "data": {
      "application/vnd.jupyter.widget-view+json": {
       "model_id": "4aa8633a68fb4c77884a2a76641ecd5d",
       "version_major": 2,
       "version_minor": 0
      },
      "text/plain": [
       "  0%|          | 0/14 [00:00<?, ?it/s]"
      ]
     },
     "metadata": {},
     "output_type": "display_data"
    },
    {
     "name": "stdout",
     "output_type": "stream",
     "text": [
      "Epoch 5 coattention loss 0.05695019298937262\n",
      "Epoch 5 temporal loss 0.008094602378039824\n",
      "Epoch 5 coseg loss 0.008094602264463902\n"
     ]
    },
    {
     "data": {
      "application/vnd.jupyter.widget-view+json": {
       "model_id": "e41e28298e8f412d82f18657a4cc9521",
       "version_major": 2,
       "version_minor": 0
      },
      "text/plain": [
       "  0%|          | 0/14 [00:00<?, ?it/s]"
      ]
     },
     "metadata": {},
     "output_type": "display_data"
    },
    {
     "name": "stdout",
     "output_type": "stream",
     "text": [
      "Epoch 6 coattention loss 0.056468705578548155\n",
      "Epoch 6 temporal loss 0.058562671265951015\n",
      "Epoch 6 coseg loss 0.07967262715101242\n",
      "In:  ./CosegPP_extension/Sunflower-D-1\n",
      "Starting:  IR_SV_0\n"
     ]
    },
    {
     "data": {
      "application/vnd.jupyter.widget-view+json": {
       "model_id": "2d2894db1cb34c88b54aaf107d0e1fe4",
       "version_major": 2,
       "version_minor": 0
      },
      "text/plain": [
       "  0%|          | 0/14 [00:00<?, ?it/s]"
      ]
     },
     "metadata": {},
     "output_type": "display_data"
    },
    {
     "name": "stdout",
     "output_type": "stream",
     "text": [
      "Epoch 0 coattention loss 0.03205824661545637\n",
      "Epoch 0 temporal loss 0.03205824661545637\n",
      "Epoch 0 coseg loss 0.032058246433734894\n"
     ]
    },
    {
     "data": {
      "application/vnd.jupyter.widget-view+json": {
       "model_id": "d7188c8fbe164c7d9d82a1998e262a4f",
       "version_major": 2,
       "version_minor": 0
      },
      "text/plain": [
       "  0%|          | 0/14 [00:00<?, ?it/s]"
      ]
     },
     "metadata": {},
     "output_type": "display_data"
    },
    {
     "name": "stdout",
     "output_type": "stream",
     "text": [
      "Epoch 1 coattention loss 0.01371639748898948\n",
      "Epoch 1 temporal loss 0.01371639748898948\n",
      "Epoch 1 coseg loss 0.013716396875679493\n"
     ]
    },
    {
     "data": {
      "application/vnd.jupyter.widget-view+json": {
       "model_id": "5523fc00924c4fc180bc4d3784c392d2",
       "version_major": 2,
       "version_minor": 0
      },
      "text/plain": [
       "  0%|          | 0/14 [00:00<?, ?it/s]"
      ]
     },
     "metadata": {},
     "output_type": "display_data"
    },
    {
     "name": "stdout",
     "output_type": "stream",
     "text": [
      "Epoch 2 coattention loss 0.05884867470438888\n",
      "Epoch 2 temporal loss 0.010450872660773556\n",
      "Epoch 2 coseg loss 0.010450872592628002\n"
     ]
    },
    {
     "data": {
      "application/vnd.jupyter.widget-view+json": {
       "model_id": "6383ad71529d4d4fab81fc55695ce0f3",
       "version_major": 2,
       "version_minor": 0
      },
      "text/plain": [
       "  0%|          | 0/14 [00:00<?, ?it/s]"
      ]
     },
     "metadata": {},
     "output_type": "display_data"
    },
    {
     "name": "stdout",
     "output_type": "stream",
     "text": [
      "Epoch 3 coattention loss 0.057960077393345716\n",
      "Epoch 3 temporal loss 0.009688754588728997\n",
      "Epoch 3 coseg loss 0.009688754566013813\n"
     ]
    },
    {
     "data": {
      "application/vnd.jupyter.widget-view+json": {
       "model_id": "8ad969d2efc44083b74229b06b5c76ba",
       "version_major": 2,
       "version_minor": 0
      },
      "text/plain": [
       "  0%|          | 0/14 [00:00<?, ?it/s]"
      ]
     },
     "metadata": {},
     "output_type": "display_data"
    },
    {
     "name": "stdout",
     "output_type": "stream",
     "text": [
      "Epoch 4 coattention loss 0.05762043777035504\n",
      "Epoch 4 temporal loss 0.0092719951417388\n",
      "Epoch 4 coseg loss 0.009271995164453983\n"
     ]
    },
    {
     "data": {
      "application/vnd.jupyter.widget-view+json": {
       "model_id": "1b4cc9b7901741b88a5b9b5d7b1f0522",
       "version_major": 2,
       "version_minor": 0
      },
      "text/plain": [
       "  0%|          | 0/14 [00:00<?, ?it/s]"
      ]
     },
     "metadata": {},
     "output_type": "display_data"
    },
    {
     "name": "stdout",
     "output_type": "stream",
     "text": [
      "Epoch 5 coattention loss 0.057141765588667334\n",
      "Epoch 5 temporal loss 0.009005783761783345\n",
      "Epoch 5 coseg loss 0.009005784057080746\n"
     ]
    },
    {
     "data": {
      "application/vnd.jupyter.widget-view+json": {
       "model_id": "5ef73e7eb89744b58aa3c8c2b336a145",
       "version_major": 2,
       "version_minor": 0
      },
      "text/plain": [
       "  0%|          | 0/14 [00:00<?, ?it/s]"
      ]
     },
     "metadata": {},
     "output_type": "display_data"
    },
    {
     "name": "stdout",
     "output_type": "stream",
     "text": [
      "Epoch 6 coattention loss 0.056779976298169395\n",
      "Epoch 6 temporal loss 0.05914986969494238\n",
      "Epoch 6 coseg loss 0.08009479194879532\n",
      "In:  ./CosegPP_extension/Sunflower-D-1\n",
      "Starting:  Vis_SV_216\n"
     ]
    },
    {
     "data": {
      "application/vnd.jupyter.widget-view+json": {
       "model_id": "ac665c71fa9c4038bbb9883ae1627d39",
       "version_major": 2,
       "version_minor": 0
      },
      "text/plain": [
       "  0%|          | 0/13 [00:00<?, ?it/s]"
      ]
     },
     "metadata": {},
     "output_type": "display_data"
    },
    {
     "name": "stdout",
     "output_type": "stream",
     "text": [
      "Epoch 0 coattention loss 0.03312516230635527\n",
      "Epoch 0 temporal loss 0.03312516230635527\n",
      "Epoch 0 coseg loss 0.03312516212463379\n"
     ]
    },
    {
     "data": {
      "application/vnd.jupyter.widget-view+json": {
       "model_id": "c6de3409c2eb4638a624a269fe3dd8bd",
       "version_major": 2,
       "version_minor": 0
      },
      "text/plain": [
       "  0%|          | 0/13 [00:00<?, ?it/s]"
      ]
     },
     "metadata": {},
     "output_type": "display_data"
    },
    {
     "name": "stdout",
     "output_type": "stream",
     "text": [
      "Epoch 1 coattention loss 0.01687104863727965\n",
      "Epoch 1 temporal loss 0.01687104863727965\n",
      "Epoch 1 coseg loss 0.016871048137545586\n"
     ]
    },
    {
     "data": {
      "application/vnd.jupyter.widget-view+json": {
       "model_id": "39283fb8565141aa90dd38da32235ef0",
       "version_major": 2,
       "version_minor": 0
      },
      "text/plain": [
       "  0%|          | 0/13 [00:00<?, ?it/s]"
      ]
     },
     "metadata": {},
     "output_type": "display_data"
    },
    {
     "name": "stdout",
     "output_type": "stream",
     "text": [
      "Epoch 2 coattention loss 0.05453337220157065\n",
      "Epoch 2 temporal loss 0.011639762669801712\n",
      "Epoch 2 coseg loss 0.011639762669801712\n"
     ]
    },
    {
     "data": {
      "application/vnd.jupyter.widget-view+json": {
       "model_id": "7d7f4b2961e647aa9790605d090885b0",
       "version_major": 2,
       "version_minor": 0
      },
      "text/plain": [
       "  0%|          | 0/13 [00:00<?, ?it/s]"
      ]
     },
     "metadata": {},
     "output_type": "display_data"
    },
    {
     "name": "stdout",
     "output_type": "stream",
     "text": [
      "Epoch 3 coattention loss 0.05359627597215699\n",
      "Epoch 3 temporal loss 0.010399677631695097\n",
      "Epoch 3 coseg loss 0.01039967779070139\n"
     ]
    },
    {
     "data": {
      "application/vnd.jupyter.widget-view+json": {
       "model_id": "728d8358d06d443d9a67ba18820243a2",
       "version_major": 2,
       "version_minor": 0
      },
      "text/plain": [
       "  0%|          | 0/13 [00:00<?, ?it/s]"
      ]
     },
     "metadata": {},
     "output_type": "display_data"
    },
    {
     "name": "stdout",
     "output_type": "stream",
     "text": [
      "Epoch 4 coattention loss 0.052997978358733946\n",
      "Epoch 4 temporal loss 0.009699868765182612\n",
      "Epoch 4 coseg loss 0.0096998680382967\n"
     ]
    },
    {
     "data": {
      "application/vnd.jupyter.widget-view+json": {
       "model_id": "34c43d1fdd8b4bbc818cc57826d7283a",
       "version_major": 2,
       "version_minor": 0
      },
      "text/plain": [
       "  0%|          | 0/13 [00:00<?, ?it/s]"
      ]
     },
     "metadata": {},
     "output_type": "display_data"
    },
    {
     "name": "stdout",
     "output_type": "stream",
     "text": [
      "Epoch 5 coattention loss 0.0521874998400851\n",
      "Epoch 5 temporal loss 0.009303989842897507\n",
      "Epoch 5 coseg loss 0.009303990751504898\n"
     ]
    },
    {
     "data": {
      "application/vnd.jupyter.widget-view+json": {
       "model_id": "e99d251ebf9e42f5b09c88cca301758b",
       "version_major": 2,
       "version_minor": 0
      },
      "text/plain": [
       "  0%|          | 0/13 [00:00<?, ?it/s]"
      ]
     },
     "metadata": {},
     "output_type": "display_data"
    },
    {
     "name": "stdout",
     "output_type": "stream",
     "text": [
      "Epoch 6 coattention loss 0.051451169136093884\n",
      "Epoch 6 temporal loss 0.05390919490558345\n",
      "Epoch 6 coseg loss 0.07358298450708389\n",
      "In:  ./CosegPP_extension/Sunflower-D-1\n",
      "Starting:  Fluo_SV_0\n"
     ]
    },
    {
     "data": {
      "application/vnd.jupyter.widget-view+json": {
       "model_id": "99ee3686424b449abfe6f11c57da967b",
       "version_major": 2,
       "version_minor": 0
      },
      "text/plain": [
       "  0%|          | 0/14 [00:00<?, ?it/s]"
      ]
     },
     "metadata": {},
     "output_type": "display_data"
    },
    {
     "name": "stdout",
     "output_type": "stream",
     "text": [
      "Epoch 0 coattention loss 0.035187847730590076\n",
      "Epoch 0 temporal loss 0.035187847730590076\n",
      "Epoch 0 coseg loss 0.035187847912311554\n"
     ]
    },
    {
     "data": {
      "application/vnd.jupyter.widget-view+json": {
       "model_id": "b7292545a0e14714bbfde5e3720341c1",
       "version_major": 2,
       "version_minor": 0
      },
      "text/plain": [
       "  0%|          | 0/14 [00:00<?, ?it/s]"
      ]
     },
     "metadata": {},
     "output_type": "display_data"
    },
    {
     "name": "stdout",
     "output_type": "stream",
     "text": [
      "Epoch 1 coattention loss 0.01650922518314385\n",
      "Epoch 1 temporal loss 0.01650922518314385\n",
      "Epoch 1 coseg loss 0.016509225592017174\n"
     ]
    },
    {
     "data": {
      "application/vnd.jupyter.widget-view+json": {
       "model_id": "9bb9eee4c7414393a641b48f7a8711c1",
       "version_major": 2,
       "version_minor": 0
      },
      "text/plain": [
       "  0%|          | 0/14 [00:00<?, ?it/s]"
      ]
     },
     "metadata": {},
     "output_type": "display_data"
    },
    {
     "name": "stdout",
     "output_type": "stream",
     "text": [
      "Epoch 2 coattention loss 0.0585578243906905\n",
      "Epoch 2 temporal loss 0.0107818518924277\n",
      "Epoch 2 coseg loss 0.010781852528452873\n"
     ]
    },
    {
     "data": {
      "application/vnd.jupyter.widget-view+json": {
       "model_id": "1323fa2ccd904d7784cd2438ad1a138f",
       "version_major": 2,
       "version_minor": 0
      },
      "text/plain": [
       "  0%|          | 0/14 [00:00<?, ?it/s]"
      ]
     },
     "metadata": {},
     "output_type": "display_data"
    },
    {
     "name": "stdout",
     "output_type": "stream",
     "text": [
      "Epoch 3 coattention loss 0.05783121142445541\n",
      "Epoch 3 temporal loss 0.009115272133452137\n",
      "Epoch 3 coseg loss 0.00911527220159769\n"
     ]
    },
    {
     "data": {
      "application/vnd.jupyter.widget-view+json": {
       "model_id": "c3e148c2f6444f51af5cb006168a14f4",
       "version_major": 2,
       "version_minor": 0
      },
      "text/plain": [
       "  0%|          | 0/14 [00:00<?, ?it/s]"
      ]
     },
     "metadata": {},
     "output_type": "display_data"
    },
    {
     "name": "stdout",
     "output_type": "stream",
     "text": [
      "Epoch 4 coattention loss 0.05753033299271653\n",
      "Epoch 4 temporal loss 0.008110352133105441\n",
      "Epoch 4 coseg loss 0.008110352791845798\n"
     ]
    },
    {
     "data": {
      "application/vnd.jupyter.widget-view+json": {
       "model_id": "348b8e949ffe4e7da3c29be3eeee7eb8",
       "version_major": 2,
       "version_minor": 0
      },
      "text/plain": [
       "  0%|          | 0/14 [00:00<?, ?it/s]"
      ]
     },
     "metadata": {},
     "output_type": "display_data"
    },
    {
     "name": "stdout",
     "output_type": "stream",
     "text": [
      "Epoch 5 coattention loss 0.05722289877693828\n",
      "Epoch 5 temporal loss 0.007166357302084201\n",
      "Epoch 5 coseg loss 0.0071663581766188145\n"
     ]
    },
    {
     "data": {
      "application/vnd.jupyter.widget-view+json": {
       "model_id": "863d55d03bda40c3a8809a5fdd92922e",
       "version_major": 2,
       "version_minor": 0
      },
      "text/plain": [
       "  0%|          | 0/14 [00:00<?, ?it/s]"
      ]
     },
     "metadata": {},
     "output_type": "display_data"
    },
    {
     "name": "stdout",
     "output_type": "stream",
     "text": [
      "Epoch 6 coattention loss 0.05414421674681873\n",
      "Epoch 6 temporal loss 0.058541758031379884\n",
      "Epoch 6 coseg loss 0.08205100148916245\n",
      "In:  ./CosegPP_extension/Sunflower-D-1\n",
      "Starting:  IR_SV_144\n"
     ]
    },
    {
     "data": {
      "application/vnd.jupyter.widget-view+json": {
       "model_id": "e62d0f7e7336445f8d32333787442190",
       "version_major": 2,
       "version_minor": 0
      },
      "text/plain": [
       "  0%|          | 0/14 [00:00<?, ?it/s]"
      ]
     },
     "metadata": {},
     "output_type": "display_data"
    },
    {
     "name": "stdout",
     "output_type": "stream",
     "text": [
      "Epoch 0 coattention loss 0.03475792796873465\n",
      "Epoch 0 temporal loss 0.03475792796873465\n",
      "Epoch 0 coseg loss 0.03475793078541756\n"
     ]
    },
    {
     "data": {
      "application/vnd.jupyter.widget-view+json": {
       "model_id": "813ffbabe1bd46c090ef5716da809d49",
       "version_major": 2,
       "version_minor": 0
      },
      "text/plain": [
       "  0%|          | 0/14 [00:00<?, ?it/s]"
      ]
     },
     "metadata": {},
     "output_type": "display_data"
    },
    {
     "name": "stdout",
     "output_type": "stream",
     "text": [
      "Epoch 1 coattention loss 0.01488403031011907\n",
      "Epoch 1 temporal loss 0.01488403031011907\n",
      "Epoch 1 coseg loss 0.014884029515087605\n"
     ]
    },
    {
     "data": {
      "application/vnd.jupyter.widget-view+json": {
       "model_id": "956f092fc8094e179434c247147a2333",
       "version_major": 2,
       "version_minor": 0
      },
      "text/plain": [
       "  0%|          | 0/14 [00:00<?, ?it/s]"
      ]
     },
     "metadata": {},
     "output_type": "display_data"
    },
    {
     "name": "stdout",
     "output_type": "stream",
     "text": [
      "Epoch 2 coattention loss 0.057873464575627954\n",
      "Epoch 2 temporal loss 0.011224873091389493\n",
      "Epoch 2 coseg loss 0.011224874295294285\n"
     ]
    },
    {
     "data": {
      "application/vnd.jupyter.widget-view+json": {
       "model_id": "e25a7b5cea1a4314b7ffab386ebfb812",
       "version_major": 2,
       "version_minor": 0
      },
      "text/plain": [
       "  0%|          | 0/14 [00:00<?, ?it/s]"
      ]
     },
     "metadata": {},
     "output_type": "display_data"
    },
    {
     "name": "stdout",
     "output_type": "stream",
     "text": [
      "Epoch 3 coattention loss 0.05520836027657113\n",
      "Epoch 3 temporal loss 0.01055982727103117\n",
      "Epoch 3 coseg loss 0.010559827089309692\n"
     ]
    },
    {
     "data": {
      "application/vnd.jupyter.widget-view+json": {
       "model_id": "c522b87a0d9b4a7d9d9198d20b80bb9c",
       "version_major": 2,
       "version_minor": 0
      },
      "text/plain": [
       "  0%|          | 0/14 [00:00<?, ?it/s]"
      ]
     },
     "metadata": {},
     "output_type": "display_data"
    },
    {
     "name": "stdout",
     "output_type": "stream",
     "text": [
      "Epoch 4 coattention loss 0.038899332466648846\n",
      "Epoch 4 temporal loss 0.01502619969953851\n",
      "Epoch 4 coseg loss 0.01502620056271553\n"
     ]
    },
    {
     "data": {
      "application/vnd.jupyter.widget-view+json": {
       "model_id": "72f251c375844671be991a0a91bedc89",
       "version_major": 2,
       "version_minor": 0
      },
      "text/plain": [
       "  0%|          | 0/14 [00:00<?, ?it/s]"
      ]
     },
     "metadata": {},
     "output_type": "display_data"
    },
    {
     "name": "stdout",
     "output_type": "stream",
     "text": [
      "Epoch 5 coattention loss 0.025279622252394513\n",
      "Epoch 5 temporal loss 0.016796432253791065\n",
      "Epoch 5 coseg loss 0.016796432435512543\n"
     ]
    },
    {
     "data": {
      "application/vnd.jupyter.widget-view+json": {
       "model_id": "462cc72fe23649818492b6e84d4b49d8",
       "version_major": 2,
       "version_minor": 0
      },
      "text/plain": [
       "  0%|          | 0/14 [00:00<?, ?it/s]"
      ]
     },
     "metadata": {},
     "output_type": "display_data"
    },
    {
     "name": "stdout",
     "output_type": "stream",
     "text": [
      "Epoch 6 coattention loss 0.044886838826464444\n",
      "Epoch 6 temporal loss 0.059127551389903554\n",
      "Epoch 6 coseg loss 0.12281880527734756\n",
      "In:  ./CosegPP_extension/Sunflower-D-1\n",
      "Starting:  IR_SV_216\n"
     ]
    },
    {
     "data": {
      "application/vnd.jupyter.widget-view+json": {
       "model_id": "9197982f33e9490eb0efe5e1182ca31c",
       "version_major": 2,
       "version_minor": 0
      },
      "text/plain": [
       "  0%|          | 0/14 [00:00<?, ?it/s]"
      ]
     },
     "metadata": {},
     "output_type": "display_data"
    },
    {
     "name": "stdout",
     "output_type": "stream",
     "text": [
      "Epoch 0 coattention loss 0.03519941284889128\n",
      "Epoch 0 temporal loss 0.03519941284889128\n",
      "Epoch 0 coseg loss 0.03519941121339798\n"
     ]
    },
    {
     "data": {
      "application/vnd.jupyter.widget-view+json": {
       "model_id": "c2dc865727c64847ab6cd3a32fef07d7",
       "version_major": 2,
       "version_minor": 0
      },
      "text/plain": [
       "  0%|          | 0/14 [00:00<?, ?it/s]"
      ]
     },
     "metadata": {},
     "output_type": "display_data"
    },
    {
     "name": "stdout",
     "output_type": "stream",
     "text": [
      "Epoch 1 coattention loss 0.015894027926572938\n",
      "Epoch 1 temporal loss 0.015894027926572938\n",
      "Epoch 1 coseg loss 0.015894027426838875\n"
     ]
    },
    {
     "data": {
      "application/vnd.jupyter.widget-view+json": {
       "model_id": "0b6e3a5dbb144f33823c93e3ca113551",
       "version_major": 2,
       "version_minor": 0
      },
      "text/plain": [
       "  0%|          | 0/14 [00:00<?, ?it/s]"
      ]
     },
     "metadata": {},
     "output_type": "display_data"
    },
    {
     "name": "stdout",
     "output_type": "stream",
     "text": [
      "Epoch 2 coattention loss 0.05837204797965724\n",
      "Epoch 2 temporal loss 0.01181253854457925\n",
      "Epoch 2 coseg loss 0.011812539771199226\n"
     ]
    },
    {
     "data": {
      "application/vnd.jupyter.widget-view+json": {
       "model_id": "74553bd211b7400db3d1912e77e7c5ee",
       "version_major": 2,
       "version_minor": 0
      },
      "text/plain": [
       "  0%|          | 0/14 [00:00<?, ?it/s]"
      ]
     },
     "metadata": {},
     "output_type": "display_data"
    },
    {
     "name": "stdout",
     "output_type": "stream",
     "text": [
      "Epoch 3 coattention loss 0.05742926459486892\n",
      "Epoch 3 temporal loss 0.010703888562757795\n",
      "Epoch 3 coseg loss 0.010703889653086662\n"
     ]
    },
    {
     "data": {
      "application/vnd.jupyter.widget-view+json": {
       "model_id": "396a603b9eb1418eb32712fb1756b5f4",
       "version_major": 2,
       "version_minor": 0
      },
      "text/plain": [
       "  0%|          | 0/14 [00:00<?, ?it/s]"
      ]
     },
     "metadata": {},
     "output_type": "display_data"
    },
    {
     "name": "stdout",
     "output_type": "stream",
     "text": [
      "Epoch 4 coattention loss 0.056720523572549586\n",
      "Epoch 4 temporal loss 0.009822524493423903\n",
      "Epoch 4 coseg loss 0.009822524152696133\n"
     ]
    },
    {
     "data": {
      "application/vnd.jupyter.widget-view+json": {
       "model_id": "4fde787ec95d4273857d8627307d6e0a",
       "version_major": 2,
       "version_minor": 0
      },
      "text/plain": [
       "  0%|          | 0/14 [00:00<?, ?it/s]"
      ]
     },
     "metadata": {},
     "output_type": "display_data"
    },
    {
     "name": "stdout",
     "output_type": "stream",
     "text": [
      "Epoch 5 coattention loss 0.0542791362215833\n",
      "Epoch 5 temporal loss 0.00927617328196037\n",
      "Epoch 5 coseg loss 0.009276173077523708\n"
     ]
    },
    {
     "data": {
      "application/vnd.jupyter.widget-view+json": {
       "model_id": "e836e9c24622499e8b528eafaa8ba106",
       "version_major": 2,
       "version_minor": 0
      },
      "text/plain": [
       "  0%|          | 0/14 [00:00<?, ?it/s]"
      ]
     },
     "metadata": {},
     "output_type": "display_data"
    },
    {
     "name": "stdout",
     "output_type": "stream",
     "text": [
      "Epoch 6 coattention loss 0.048586028923348686\n",
      "Epoch 6 temporal loss 0.0591898971214527\n",
      "Epoch 6 coseg loss 0.08693192154169083\n",
      "In:  ./CosegPP_extension/Sunflower-D-1\n",
      "Starting:  IR_SV_72\n"
     ]
    },
    {
     "data": {
      "application/vnd.jupyter.widget-view+json": {
       "model_id": "4878f217860a4aa6977533a3634a8441",
       "version_major": 2,
       "version_minor": 0
      },
      "text/plain": [
       "  0%|          | 0/14 [00:00<?, ?it/s]"
      ]
     },
     "metadata": {},
     "output_type": "display_data"
    },
    {
     "name": "stdout",
     "output_type": "stream",
     "text": [
      "Epoch 0 coattention loss 0.03530045435196016\n",
      "Epoch 0 temporal loss 0.03530045435196016\n",
      "Epoch 0 coseg loss 0.03530045598745346\n"
     ]
    },
    {
     "data": {
      "application/vnd.jupyter.widget-view+json": {
       "model_id": "969029a53c84465fad2d60650cb530e7",
       "version_major": 2,
       "version_minor": 0
      },
      "text/plain": [
       "  0%|          | 0/14 [00:00<?, ?it/s]"
      ]
     },
     "metadata": {},
     "output_type": "display_data"
    },
    {
     "name": "stdout",
     "output_type": "stream",
     "text": [
      "Epoch 1 coattention loss 0.015112258493900299\n",
      "Epoch 1 temporal loss 0.015112258493900299\n",
      "Epoch 1 coseg loss 0.015112257562577724\n"
     ]
    },
    {
     "data": {
      "application/vnd.jupyter.widget-view+json": {
       "model_id": "de30ff3f062a4b3ca3b3708e862321c6",
       "version_major": 2,
       "version_minor": 0
      },
      "text/plain": [
       "  0%|          | 0/14 [00:00<?, ?it/s]"
      ]
     },
     "metadata": {},
     "output_type": "display_data"
    },
    {
     "name": "stdout",
     "output_type": "stream",
     "text": [
      "Epoch 2 coattention loss 0.05840190772603198\n",
      "Epoch 2 temporal loss 0.01127289281022258\n",
      "Epoch 2 coseg loss 0.011272892355918884\n"
     ]
    },
    {
     "data": {
      "application/vnd.jupyter.widget-view+json": {
       "model_id": "725f6163fd6345c6be8bc3025912a766",
       "version_major": 2,
       "version_minor": 0
      },
      "text/plain": [
       "  0%|          | 0/14 [00:00<?, ?it/s]"
      ]
     },
     "metadata": {},
     "output_type": "display_data"
    },
    {
     "name": "stdout",
     "output_type": "stream",
     "text": [
      "Epoch 3 coattention loss 0.05734490185249143\n",
      "Epoch 3 temporal loss 0.010261801275901677\n",
      "Epoch 3 coseg loss 0.01026180200278759\n"
     ]
    },
    {
     "data": {
      "application/vnd.jupyter.widget-view+json": {
       "model_id": "c7b65fd8e24c43328ce179769b47e355",
       "version_major": 2,
       "version_minor": 0
      },
      "text/plain": [
       "  0%|          | 0/14 [00:00<?, ?it/s]"
      ]
     },
     "metadata": {},
     "output_type": "display_data"
    },
    {
     "name": "stdout",
     "output_type": "stream",
     "text": [
      "Epoch 4 coattention loss 0.05657816369359086\n",
      "Epoch 4 temporal loss 0.009544476003545086\n",
      "Epoch 4 coseg loss 0.009544476866722107\n"
     ]
    },
    {
     "data": {
      "application/vnd.jupyter.widget-view+json": {
       "model_id": "e6f1e46a299a4a71a027ea85a78a41c8",
       "version_major": 2,
       "version_minor": 0
      },
      "text/plain": [
       "  0%|          | 0/14 [00:00<?, ?it/s]"
      ]
     },
     "metadata": {},
     "output_type": "display_data"
    },
    {
     "name": "stdout",
     "output_type": "stream",
     "text": [
      "Epoch 5 coattention loss 0.05536060325983094\n",
      "Epoch 5 temporal loss 0.009060902521014214\n",
      "Epoch 5 coseg loss 0.009060902521014214\n"
     ]
    },
    {
     "data": {
      "application/vnd.jupyter.widget-view+json": {
       "model_id": "918fd73fa4244b9098e1b84fa188d029",
       "version_major": 2,
       "version_minor": 0
      },
      "text/plain": [
       "  0%|          | 0/14 [00:00<?, ?it/s]"
      ]
     },
     "metadata": {},
     "output_type": "display_data"
    },
    {
     "name": "stdout",
     "output_type": "stream",
     "text": [
      "Epoch 6 coattention loss 0.053903895543842784\n",
      "Epoch 6 temporal loss 0.059089873258660476\n",
      "Epoch 6 coseg loss 0.08035019785165787\n"
     ]
    }
   ],
   "source": [
    "for i, class_item in enumerate(class_list) : \n",
    "    \n",
    "    # resetting for each class\n",
    "    device = torch.device('cuda' if torch.cuda.is_available() else 'cpu')\n",
    "    transform = torchvision.transforms.Compose([\n",
    "                                torchvision.transforms.Resize((384,384)),\n",
    "                                torchvision.transforms.ToTensor(),\n",
    "                                torchvision.transforms.Normalize([0.485, 0.456, 0.406],[0.229, 0.224, 0.225])])\n",
    "    feature_extractor =  ResNet50().eval()\n",
    "    generator = FCN32s().train()\n",
    "    fake_feature_extractor = ResNet50().eval()\n",
    "    fake_generator = FCN32s().train()\n",
    "    optimizer = torch.optim.SGD(generator.parameters(), lr = 1e-2)\n",
    "    criterion = torch.nn.MSELoss()\n",
    "    feature_extractor.to(device)\n",
    "    generator.to(device)\n",
    "    fake_feature_extractor.to(device)\n",
    "    fake_generator.to(device)\n",
    "    \n",
    "    # creating class dataset\n",
    "    dataset = torchvision.datasets.ImageFolder(dataset_path, transform=transform)\n",
    "    class_dataset = select_class(dataset, class_item)\n",
    "    data_loader = torch.utils.data.DataLoader(class_dataset, shuffle = False, batch_size= num_prior_algo) # data_loader = ceil((no. of samples in dataset)/batchsize)\n",
    "   \n",
    "    dataset_class_path = dataset_path + '/' + class_item\n",
    "    timestamp_list = next(walk(dataset_class_path), (None, None, []))[2]\n",
    "    timestamp_list.sort()\n",
    "    \n",
    "    if (timestamp_list[0] == '.DS_Store'):\n",
    "        timestamp_list.pop(0)\n",
    "\n",
    "    print (\"In: \", dataset_path)\n",
    "    print (\"Starting: \", class_item)\n",
    "    \n",
    "    ##########################\n",
    "    #### Starting CoPPNet ####\n",
    "    ##########################\n",
    "\n",
    "    now = datetime.datetime.now()\n",
    "    writer = SummaryWriter('./logs/{}:{}:{}'.format(now.hour, now.minute, now.second))\n",
    "    #torch.autograd.set_detect_anomaly(True) # for debugging \n",
    "\n",
    "    for epoch in range(nb_epochs):\n",
    "\n",
    "        # initialize running losses \n",
    "        running_loss_coattention = 0\n",
    "        running_loss_temporal = 0 \n",
    "        running_loss_coseg = 0 \n",
    "\n",
    "        pbar = tqdm.notebook.tqdm(total=len(data_loader))    \n",
    "\n",
    "        for prev_imgs, images, next_imgs in previous_and_next(data_loader):\n",
    "\n",
    "            optimizer.zero_grad()\n",
    "\n",
    "            # initialize losses\n",
    "            proposals = [None] * len(data_loader) \n",
    "            loss_coattention = 0\n",
    "            loss_temporal = 0 \n",
    "            loss_coseg = 0 \n",
    "\n",
    "            #########################################################\n",
    "            #### procesing current and prior images using        ####\n",
    "            #### FCN (generator) and ResNet50(feature_extractor) ####\n",
    "            #########################################################\n",
    "\n",
    "            # process current images to get masks and features  \n",
    "            # where segmented_objects = masks * images\n",
    "            # where segmented_backgrounds = (1 - masks) * images\n",
    "            images = images[0].to(device)        \n",
    "            masks = generator(images) \n",
    "            object_features = feature_extractor(torch.mul(images, masks)).squeeze()\n",
    "            background_features = feature_extractor(torch.mul(images, (1 - masks))).squeeze()\n",
    "\n",
    "            # process previous images to get masks and features \n",
    "            if prev_imgs is not None :\n",
    "                prev_imgs = prev_imgs[0].clone().to(device)  \n",
    "                prev_masks = fake_generator(prev_imgs)\n",
    "                prev_segmented_objects = prev_masks * prev_imgs\n",
    "                prev_object_features = fake_feature_extractor(prev_segmented_objects).squeeze()\n",
    "\n",
    "            ###################################################\n",
    "            #### starting loss computations based on epoch ####\n",
    "            ###################################################\n",
    "\n",
    "            if (epoch < math.floor(nb_epochs/3)): \n",
    "\n",
    "                loss_coattention = masks.mean() * 2\n",
    "                loss_temporal = masks.mean() * 2\n",
    "                loss_coseg = masks.mean() * 2\n",
    "            \n",
    "            elif ((epoch >= math.floor(nb_epochs/3)) & (epoch <= (nb_epochs-2))):\n",
    "                \n",
    "                for q in range(images.shape[0]):\n",
    "                    for j in range(images.shape[0]):\n",
    "                        if q == j:\n",
    "                            continue\n",
    "                        #### computing coattention loss from Hsu18 ####\n",
    "                        batch, dim = object_features.size()\n",
    "                        dij_plus = (torch.dist(object_features[q,:], object_features[j,:], p=2) ** 2) / dim / batch\n",
    "                        dij_minus = (torch.dist(object_features[q,:], background_features[q,:], p=2) ** 2) / dim / batch\n",
    "                        dij_minus = dij_minus + (torch.dist(object_features[j,:], background_features[j,:], p=2) ** 2) / dim / batch\n",
    "                        dij_minus = dij_minus/2\n",
    "                        loss_coattention = loss_coattention + torch.log(torch.exp(-dij_plus)/(torch.exp(-dij_plus) + torch.exp(-dij_minus))) * (-1)\n",
    "                \n",
    "                loss_temporal = masks.mean() * 2\n",
    "                loss_coseg = masks.mean() * 2\n",
    "                  \n",
    "            else:\n",
    "                if prev_imgs is not None :\n",
    "                    #### computing cosegmentation loss ####\n",
    "                    obj_A = feature_extractor(torch.mul(images, masks)).squeeze() # object_features\n",
    "                    back_A = feature_extractor(torch.mul(images, 1.0 - masks)).squeeze() # background features \n",
    "                    obj_B = feature_extractor(torch.mul(prev_imgs, prev_masks)).squeeze() # prev_object_features\n",
    "                    back_B = feature_extractor(torch.mul(prev_imgs, 1.0 - prev_masks)).squeeze() # prev_background features\n",
    "                    pos = criterion(obj_A, obj_B) ** 2\n",
    "                    neg = ((criterion(obj_A, back_B) ** 2) + (criterion(obj_B, back_B) ** 2))/2\n",
    "                    neg = torch.max(torch.tensor(0), 2 - neg)\n",
    "                    loss_coseg = loss_coseg + (pos + neg) \n",
    "\n",
    "                for q in range(images.shape[0]):\n",
    "                    for j in range(images.shape[0]):\n",
    "                        if q == j:\n",
    "                            continue\n",
    "                        #### computing coattention loss from Hsu18 ####\n",
    "                        batch, dim = object_features.size()\n",
    "                        dij_plus = (torch.dist(object_features[q,:], object_features[j,:], p=2) ** 2) / dim / batch\n",
    "                        dij_minus = (torch.dist(object_features[q,:], background_features[q,:], p=2) ** 2) / dim / batch\n",
    "                        dij_minus = dij_minus + (torch.dist(object_features[j,:], background_features[j,:], p=2) ** 2) / dim / batch\n",
    "                        dij_minus = dij_minus/2\n",
    "                        loss_coattention = loss_coattention + torch.log(torch.exp(-dij_plus)/(torch.exp(-dij_plus) + torch.exp(-dij_minus))) * (-1)\n",
    "                        \n",
    "                        #### computing temporal loss ####\n",
    "                        ob_minus = criterion(prev_object_features[q,:].clone(), prev_object_features[j,:].clone()) ** 2\n",
    "                        ob_plus = criterion(object_features[q,:], object_features[j,:]) ** 2\n",
    "                        loss_temporal = loss_temporal + torch.log(torch.exp(-ob_plus.clone())/(torch.exp(-ob_plus.clone()) + torch.exp(-ob_minus))) * (-1)\n",
    "\n",
    "            (1.0*loss_coattention + 0.5*loss_temporal + 0.5*loss_coseg).backward(retain_graph=True) \n",
    "            optimizer.step()\n",
    "            \n",
    "            with torch.no_grad():\n",
    "                try :\n",
    "                    running_loss_coattention += loss_coattention.item()\n",
    "                except: # odd number of images so could not compute last image \n",
    "                    running_loss_coattention += 0\n",
    "                try :\n",
    "                    running_loss_temporal += loss_temporal.item()\n",
    "                except: # odd number of images so could not compute last image \n",
    "                    running_loss_temporal += 0\n",
    "                try : \n",
    "                    running_loss_coseg += loss_coseg \n",
    "                except:\n",
    "                    running_loss_coseg += 0\n",
    "            pbar.update(1)\n",
    "\n",
    "        if epoch >= math.floor(nb_epochs/3):\n",
    "            writer.add_scalar('training_loss',running_loss_coattention/len(dataset), epoch)\n",
    "        print('Epoch {} coattention loss {}'.format(epoch, running_loss_coattention/len(dataset))) \n",
    "        print('Epoch {} temporal loss {}'.format(epoch, running_loss_temporal/len(dataset))) \n",
    "        print('Epoch {} coseg loss {}'.format(epoch, running_loss_coseg/len(dataset))) \n",
    "\n",
    "    save_image_mask_segmented(data_loader, timestamp_list)"
   ]
  },
  {
   "cell_type": "code",
   "execution_count": null,
   "metadata": {},
   "outputs": [],
   "source": []
  },
  {
   "cell_type": "code",
   "execution_count": null,
   "metadata": {},
   "outputs": [],
   "source": []
  }
 ],
 "metadata": {
  "file_extension": ".py",
  "kernelspec": {
   "display_name": "Python [conda env:env_coppnet] *",
   "language": "python",
   "name": "conda-env-env_coppnet-py"
  },
  "language_info": {
   "codemirror_mode": {
    "name": "ipython",
    "version": 3
   },
   "file_extension": ".py",
   "mimetype": "text/x-python",
   "name": "python",
   "nbconvert_exporter": "python",
   "pygments_lexer": "ipython3",
   "version": "3.8.0"
  },
  "mimetype": "text/x-python",
  "name": "python",
  "npconvert_exporter": "python",
  "pygments_lexer": "ipython3",
  "version": 3
 },
 "nbformat": 4,
 "nbformat_minor": 2
}
